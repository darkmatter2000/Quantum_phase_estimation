{
 "cells": [
  {
   "cell_type": "markdown",
   "id": "ab557f3c",
   "metadata": {},
   "source": [
    "# Quantum Phase estimation"
   ]
  },
  {
   "cell_type": "markdown",
   "id": "a87f7374",
   "metadata": {},
   "source": [
    "l'algorithme d'estimation de phase est un algorithme qui etant donné une matrice unitaire"
   ]
  }
 ],
 "metadata": {
  "kernelspec": {
   "display_name": "Python 3 (ipykernel)",
   "language": "python",
   "name": "python3"
  },
  "language_info": {
   "codemirror_mode": {
    "name": "ipython",
    "version": 3
   },
   "file_extension": ".py",
   "mimetype": "text/x-python",
   "name": "python",
   "nbconvert_exporter": "python",
   "pygments_lexer": "ipython3",
   "version": "3.9.13"
  }
 },
 "nbformat": 4,
 "nbformat_minor": 5
}
