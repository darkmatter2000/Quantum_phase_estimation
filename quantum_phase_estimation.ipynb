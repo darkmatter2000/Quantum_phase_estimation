{
 "cells": [
  {
   "cell_type": "markdown",
   "id": "74bfd5ba",
   "metadata": {},
   "source": [
    "# Quantum Phase estimation"
   ]
  },
  {
   "cell_type": "markdown",
   "id": "27ae44a0",
   "metadata": {},
   "source": [
    "The phase estimation algorithm is an algorithm that, given a unitary matrix U and an eigenvector $|\\Psi \\rangle$ with an eigenvalue $e^{i 2\\pi \\varphi}$, provides an estimation of $\\varphi$.The precision on $\\varphi$ increases with the number of ancillary qubits, which poses a constraint on noisy quantum computers.$\\\\$\n",
    "In this notebook, we present a different approach that allows for an estimation of $\\varphi$ using only a single ancillary qubit."
   ]
  },
  {
   "cell_type": "markdown",
   "id": "d166fe62",
   "metadata": {},
   "source": [
    "##  Fonctionnement"
   ]
  },
  {
   "cell_type": "markdown",
   "id": "cc2f9912",
   "metadata": {},
   "source": [
    "Let $q_{0} = |+\\rangle$ be the auxiliary qubit and $|\\Psi\\rangle$ a eigenvector of the matrix U. Let's consider the tensor product of the two states:\n",
    "$|+\\rangle |\\Psi \\rangle = \\frac{1}{\\sqrt{2}}(|0\\rangle|\\Psi\\rangle + |1\\rangle|\\Psi\\rangle)$\n",
    "\n",
    "We apply a controled-$U^{2^{t}}$ gate where t it's an integer number.\n",
    "\n",
    "We recall, the action of a controlled-$U^{2^{t}}$ gate:\n",
    "If the control qubit is in the state $|0\\rangle$, nothing changes. If the control qubit is in the state $|1\\rangle$, then the operator $U^{2^{t}}$ acts on the target qubit. Thus,\n",
    "\n",
    "$$\n",
    "\\begin{align}\n",
    "controled-U^{2^{t}}[|+\\rangle |\\Psi \\rangle] &= controled-U^{2^{t}}[\\frac{1}{\\sqrt{2}}(|0\\rangle|\\Psi\\rangle + |1\\rangle|\\Psi\\rangle)] \\\\\n",
    "&= \\frac{1}{\\sqrt{2}}(|0\\rangle|\\Psi\\rangle + e^{i 2\\pi 2^{t} \\varphi}|1\\rangle|\\Psi\\rangle) \\text{ car } U|\\Psi\\rangle = e^{i 2\\pi \\varphi} |\\Psi\\rangle \\implies  U^{2^{t}}|\\Psi \\rangle = e^{i 2\\pi 2^{t} \\varphi}|\\Psi \\rangle \\\\\n",
    "&= \\frac{1}{\\sqrt{2}}(|0\\rangle +  e^{i 2\\pi 2^{t} \\varphi}|1\\rangle)|\\Psi\\rangle\n",
    "\\end{align} \n",
    "$$\n",
    "\n"
   ]
  },
  {
   "cell_type": "markdown",
   "id": "714d1c78",
   "metadata": {},
   "source": [
    "We have:\n",
    "$$\n",
    "\\begin{align}\n",
    "(\\varphi)_{10} &= (0.\\varphi_{1}\\varphi_{2}...\\varphi_{n})_{2}\\\\\n",
    "&= (\\varphi_{1}\\varphi_{2}...\\varphi_{t}.\\varphi_{t+1}...\\varphi_{n}.2^{-t})_{2}\\\\\n",
    "\\end{align}\n",
    "$$\n",
    "$$\n",
    "\\begin{align}\n",
    "\\implies 2^{t}\\varphi &= \\varphi_{1}\\varphi_{2}...\\varphi_{t}.\\varphi_{t+1}...\\varphi_{n}\\\\\n",
    "&= \\varphi_{1}\\varphi_{2}...\\varphi_{t} + 0.\\varphi_{t+1}...\\varphi_{n}\n",
    "\\end{align}\n",
    "$$\n",
    "$$\n",
    "\\begin{align}\n",
    "\\implies e^{i 2\\pi 2^{t} \\varphi} &= e^{i 2\\pi \\varphi_{1}\\varphi_{2}...\\varphi_{t}}.e^{i 2\\pi 0.\\varphi_{t+1}...\\varphi_{n}} \\text{ with } e^{i 2\\pi \\varphi_{1}\\varphi_{2}...\\varphi_{t}} = 1\\\\\n",
    "&=e^{i 2\\pi 0.\\varphi_{t+1}...\\varphi_{n}}\n",
    "\\end{align}\n",
    "$$\n",
    "\n",
    "for t = n -1, $e^{i 2\\pi 2^{n-1} \\varphi} = e^{i 2\\pi 0.\\varphi_{n}}$:\n",
    "if $\\varphi_{n}$ = 0 , the final state is $|+\\rangle = \\frac{1}{\\sqrt{2}}(|0\\rangle + |1\\rangle)$\n",
    "if $\\varphi_{n}$ = 1 , the final state is $|-\\rangle = \\frac{1}{\\sqrt{2}}(|0\\rangle - |1\\rangle)$"
   ]
  },
  {
   "cell_type": "markdown",
   "id": "43985e8e",
   "metadata": {},
   "source": [
    "It only takes a measurement of the auxiliary qubit in the **X** basis ($|+\\rangle, |-\\rangle$) to determine whether the bit $\\varphi_{n}$ is 0 or 1.$\\\\$\n",
    "Now $\\varphi_{n-1}:$"
   ]
  },
  {
   "cell_type": "markdown",
   "id": "8b108be7",
   "metadata": {},
   "source": [
    "We apply controlled-$U^{2^{t}}$, which results in the state:\n",
    "$$\n",
    "\\begin{align}\n",
    "\\frac{1}{\\sqrt{2}}(|0\\rangle +  e^{i 2\\pi 0.\\varphi_{n-1}\\varphi_{n}}|1\\rangle)|\\Psi\\rangle\\\\\n",
    "\\implies \\frac{1}{\\sqrt{2}}(|0\\rangle +  e^{i 2\\pi 0.\\varphi_{n-1}}e^{i 2\\pi \\frac{\\varphi_{n}}{4}}|1\\rangle)|\\Psi\\rangle\n",
    "\\end{align}\n",
    "$$\n",
    "We now apply a controlled rotation of angle $-2\\pi \\frac{\\varphi_{n}}{4}$ around the **Z** axis, which gives us the state $\\frac{1}{\\sqrt{2}}(|0\\rangle +  e^{i 2\\pi 0.\\varphi_{n-1}}|1\\rangle)|\\Psi\\rangle$. We encounter the same situation as with $\\varphi_{n}$.\n",
    "\n",
    "Thus, at the $k^{th}$ iteration, we find the bit $\\varphi_{n-k+1}$ by applying the controlled operator $U^{2^{n-k}}$, followed by a rotation of angle $\\alpha_{k} = -2 \\pi 0.0 \\varphi_{n-k+2}...\\varphi_{n}$. Finally, a measurement of the auxiliary qubit in the **X** basis determines whether $\\varphi_{n-k+1}$ is equal to 0 or 1.\n"
   ]
  },
  {
   "cell_type": "markdown",
   "id": "a0df53c0",
   "metadata": {},
   "source": [
    "## Implémentation"
   ]
  },
  {
   "cell_type": "markdown",
   "id": "733cc593",
   "metadata": {},
   "source": [
    "Let's consider the matrix:\n",
    "$$ S =\n",
    "\\begin{pmatrix}\n",
    "1 & 0\\\\\n",
    "0 & e^{i3\\pi / 4}\n",
    "\\end{pmatrix}$$\n",
    "\n",
    "With the eigenvector:\n",
    "$$ |1\\rangle =\n",
    "\\begin{pmatrix}\n",
    "0\\\\\n",
    "1\n",
    "\\end{pmatrix}$$\n",
    "\n",
    "in this case $\\varphi = \\frac{3}{8} = (0.011)_{2}$"
   ]
  },
  {
   "cell_type": "code",
   "execution_count": 1,
   "id": "da0e9492",
   "metadata": {},
   "outputs": [],
   "source": [
    "from qiskit import ClassicalRegister , QuantumCircuit, QuantumRegister\n",
    "\n",
    "import numpy as np"
   ]
  },
  {
   "cell_type": "code",
   "execution_count": null,
   "id": "1d1563c8",
   "metadata": {},
   "outputs": [],
   "source": [
    "qc = QuantumCircuit(qr , cr)\n",
    "qc.h(qr[0])\n",
    "qc."
   ]
  }
 ],
 "metadata": {
  "kernelspec": {
   "display_name": "Python 3 (ipykernel)",
   "language": "python",
   "name": "python3"
  },
  "language_info": {
   "codemirror_mode": {
    "name": "ipython",
    "version": 3
   },
   "file_extension": ".py",
   "mimetype": "text/x-python",
   "name": "python",
   "nbconvert_exporter": "python",
   "pygments_lexer": "ipython3",
   "version": "3.9.13"
  }
 },
 "nbformat": 4,
 "nbformat_minor": 5
}
